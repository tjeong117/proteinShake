{
 "cells": [
  {
   "cell_type": "code",
   "execution_count": 11,
   "id": "813fb202",
   "metadata": {},
   "outputs": [],
   "source": [
    "import neuron\n",
    "## need this to avoid no display errors\n",
    "%matplotlib inline  \n",
    "from neuron import h, rxd\n",
    "# importing submodules\n",
    "# specify units by importing ms, mV modules but neuron already has default units (mM and ms and mV)"
   ]
  },
  {
   "cell_type": "code",
   "execution_count": 12,
   "id": "b08d1a6f",
   "metadata": {},
   "outputs": [],
   "source": [
    "# Section = basica morphologi al building block of neuron\n",
    "soma = h.Section(name=\"soma\")"
   ]
  },
  {
   "cell_type": "code",
   "execution_count": 13,
   "id": "7daadac8",
   "metadata": {},
   "outputs": [
    {
     "name": "stdout",
     "output_type": "stream",
     "text": [
      "\n",
      "|-|       soma(0-1)\n",
      "\n"
     ]
    },
    {
     "data": {
      "text/plain": [
       "1.0"
      ]
     },
     "execution_count": 13,
     "metadata": {},
     "output_type": "execute_result"
    }
   ],
   "source": [
    "h.topology() # displays the topological structure of the entire model"
   ]
  },
  {
   "cell_type": "code",
   "execution_count": null,
   "id": "4c25f44f",
   "metadata": {},
   "outputs": [],
   "source": []
  }
 ],
 "metadata": {
  "kernelspec": {
   "display_name": "Python 3 (ipykernel)",
   "language": "python",
   "name": "python3"
  },
  "language_info": {
   "codemirror_mode": {
    "name": "ipython",
    "version": 3
   },
   "file_extension": ".py",
   "mimetype": "text/x-python",
   "name": "python",
   "nbconvert_exporter": "python",
   "pygments_lexer": "ipython3",
   "version": "3.11.1"
  }
 },
 "nbformat": 4,
 "nbformat_minor": 5
}
